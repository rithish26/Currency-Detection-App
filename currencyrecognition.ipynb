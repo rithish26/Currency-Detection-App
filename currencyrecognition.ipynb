{
  "nbformat": 4,
  "nbformat_minor": 0,
  "metadata": {
    "colab": {
      "name": "currencyrecognition.ipynb",
      "provenance": []
    },
    "kernelspec": {
      "name": "python3",
      "display_name": "Python 3"
    },
    "language_info": {
      "name": "python"
    }
  },
  "cells": [
    {
      "cell_type": "code",
      "execution_count": null,
      "metadata": {
        "id": "7WDAkxHHL6Xh"
      },
      "outputs": [],
      "source": [
        "import numpy as np\n",
        "import tensorflow as tf\n",
        "import os"
      ]
    },
    {
      "cell_type": "code",
      "source": [
        "#Importing training data from drive\n",
        "\n",
        "data_path='/content/drive/MyDrive/datasets'"
      ],
      "metadata": {
        "id": "JKGAwpz_MGzZ"
      },
      "execution_count": null,
      "outputs": []
    },
    {
      "cell_type": "code",
      "source": [
        "image_size=224\n",
        "batch_size=128\n",
        "\n",
        "datagen=tf.keras.preprocessing.image.ImageDataGenerator(\n",
        "    rescale=1./255,\n",
        "    validation_split=0.2\n",
        "\n",
        ")\n",
        "# Split the data for training and testing\n",
        "\n",
        "train_generator=datagen.flow_from_directory(\n",
        "    data_path,\n",
        "    target_size=(image_size,image_size),\n",
        "    batch_size=batch_size,\n",
        "    subset='training')\n",
        "\n",
        "# Generation of training data from all the samples\n",
        "\n",
        "val_generator=datagen.flow_from_directory(\n",
        "    data_path,\n",
        "    target_size=(image_size,image_size),\n",
        "    batch_size=batch_size,\n",
        "    subset='validation'\n",
        ")\n",
        "\n",
        "# Genreration of the testing data from all the samples"
      ],
      "metadata": {
        "colab": {
          "base_uri": "https://localhost:8080/"
        },
        "id": "4WDNquPZMU7-",
        "outputId": "daac616f-6b5d-4f81-f3c6-37e44f0b7f0c"
      },
      "execution_count": null,
      "outputs": [
        {
          "output_type": "stream",
          "name": "stdout",
          "text": [
            "Found 3597 images belonging to 7 classes.\n",
            "Found 897 images belonging to 7 classes.\n"
          ]
        }
      ]
    },
    {
      "cell_type": "code",
      "source": [
        "print(train_generator.class_indices)\n",
        "\n",
        "labels = '\\n'.join(sorted(train_generator.class_indices.keys()))\n",
        "\n",
        "with open('labels.txt','w') as f:\n",
        "  f.write(labels)\n",
        "\n",
        "#Creating the text file with the classes which we have included in the model"
      ],
      "metadata": {
        "colab": {
          "base_uri": "https://localhost:8080/"
        },
        "id": "wOriDGgkMflO",
        "outputId": "175ce211-fec6-4374-c477-3c700683fe3e"
      },
      "execution_count": null,
      "outputs": [
        {
          "output_type": "stream",
          "name": "stdout",
          "text": [
            "{'10 rupees-samples': 0, '100 rupees-samples': 1, '20 rupees-samples': 2, '200 rupees-samples': 3, '2000 rupees-samples': 4, '50 rupees-samples': 5, '500 rupees-samples': 6}\n"
          ]
        }
      ]
    },
    {
      "cell_type": "code",
      "source": [
        "img_shape=(image_size,image_size,3) #Input image shape\n",
        "\n",
        "base_model=tf.keras.applications.MobileNetV2(input_shape=img_shape,include_top=False,weights='imagenet')"
      ],
      "metadata": {
        "colab": {
          "base_uri": "https://localhost:8080/"
        },
        "id": "10jp7pk3MmNQ",
        "outputId": "8d848a45-bc6b-447e-edd2-de3b053be40c"
      },
      "execution_count": null,
      "outputs": [
        {
          "output_type": "stream",
          "name": "stdout",
          "text": [
            "Downloading data from https://storage.googleapis.com/tensorflow/keras-applications/mobilenet_v2/mobilenet_v2_weights_tf_dim_ordering_tf_kernels_1.0_224_no_top.h5\n",
            "9412608/9406464 [==============================] - 0s 0us/step\n",
            "9420800/9406464 [==============================] - 0s 0us/step\n"
          ]
        }
      ]
    },
    {
      "cell_type": "code",
      "source": [
        "base_model.trainable=False"
      ],
      "metadata": {
        "id": "j15J8jKbMs96"
      },
      "execution_count": null,
      "outputs": []
    },
    {
      "cell_type": "code",
      "source": [
        "model=tf.keras.Sequential([\n",
        "    base_model,\n",
        "    tf.keras.layers.Conv2D(32,3,activation='relu'),\n",
        "    tf.keras.layers.Dropout(0.2),\n",
        "    tf.keras.layers.GlobalAveragePooling2D(),\n",
        "    tf.keras.layers.Dense(7,activation='softmax')\n",
        "])"
      ],
      "metadata": {
        "id": "W7vHmO48MvzW"
      },
      "execution_count": null,
      "outputs": []
    },
    {
      "cell_type": "code",
      "source": [
        "model.compile(optimizer=tf.keras.optimizers.Adam(),loss='categorical_crossentropy',metrics=['accuracy'])"
      ],
      "metadata": {
        "id": "JGCNT2kcMyf3"
      },
      "execution_count": null,
      "outputs": []
    },
    {
      "cell_type": "code",
      "source": [
        "epochs=10\n",
        "\n",
        "history = model.fit(train_generator,\n",
        "                    epochs=epochs,\n",
        "                    validation_data=val_generator)"
      ],
      "metadata": {
        "colab": {
          "base_uri": "https://localhost:8080/"
        },
        "id": "cCScsnxtM1M_",
        "outputId": "78c9515b-9942-4528-80e8-278f76adc247"
      },
      "execution_count": null,
      "outputs": [
        {
          "output_type": "stream",
          "name": "stdout",
          "text": [
            "Epoch 1/10\n",
            "29/29 [==============================] - 1102s 38s/step - loss: 1.1971 - accuracy: 0.6444 - val_loss: 0.5175 - val_accuracy: 0.8450\n",
            "Epoch 2/10\n",
            "29/29 [==============================] - 130s 4s/step - loss: 0.1857 - accuracy: 0.9552 - val_loss: 0.2645 - val_accuracy: 0.9052\n",
            "Epoch 3/10\n",
            "29/29 [==============================] - 130s 4s/step - loss: 0.0519 - accuracy: 0.9939 - val_loss: 0.1990 - val_accuracy: 0.9320\n",
            "Epoch 4/10\n",
            "29/29 [==============================] - 129s 5s/step - loss: 0.0232 - accuracy: 0.9989 - val_loss: 0.1868 - val_accuracy: 0.9242\n",
            "Epoch 5/10\n",
            "29/29 [==============================] - 129s 4s/step - loss: 0.0135 - accuracy: 0.9997 - val_loss: 0.1725 - val_accuracy: 0.9275\n",
            "Epoch 6/10\n",
            "29/29 [==============================] - 127s 4s/step - loss: 0.0097 - accuracy: 0.9994 - val_loss: 0.1737 - val_accuracy: 0.9231\n",
            "Epoch 7/10\n",
            "29/29 [==============================] - 130s 5s/step - loss: 0.0075 - accuracy: 0.9994 - val_loss: 0.1471 - val_accuracy: 0.9476\n",
            "Epoch 8/10\n",
            "29/29 [==============================] - 130s 4s/step - loss: 0.0058 - accuracy: 0.9994 - val_loss: 0.1599 - val_accuracy: 0.9298\n",
            "Epoch 9/10\n",
            "29/29 [==============================] - 130s 5s/step - loss: 0.0043 - accuracy: 0.9997 - val_loss: 0.1851 - val_accuracy: 0.9130\n",
            "Epoch 10/10\n",
            "29/29 [==============================] - 130s 4s/step - loss: 0.0038 - accuracy: 1.0000 - val_loss: 0.1328 - val_accuracy: 0.9509\n"
          ]
        }
      ]
    },
    {
      "cell_type": "code",
      "source": [
        "saved_model_dir=''\n",
        "tf.saved_model.save(model,saved_model_dir)\n",
        "\n",
        "converter=tf.lite.TFLiteConverter.from_saved_model(saved_model_dir)\n",
        "tflite_model=converter.convert()\n",
        "\n",
        "with open('model.tflite','wb') as f:\n",
        "  f.write(tflite_model)"
      ],
      "metadata": {
        "colab": {
          "base_uri": "https://localhost:8080/"
        },
        "id": "ds_QqNTnM34b",
        "outputId": "fe2d2269-83c3-4603-887c-123ab63c8c15"
      },
      "execution_count": null,
      "outputs": [
        {
          "output_type": "stream",
          "name": "stderr",
          "text": [
            "WARNING:absl:Function `_wrapped_model` contains input name(s) mobilenetv2_1.00_224_input with unsupported characters which will be renamed to mobilenetv2_1_00_224_input in the SavedModel.\n"
          ]
        },
        {
          "output_type": "stream",
          "name": "stdout",
          "text": [
            "INFO:tensorflow:Assets written to: assets\n"
          ]
        },
        {
          "output_type": "stream",
          "name": "stderr",
          "text": [
            "INFO:tensorflow:Assets written to: assets\n",
            "WARNING:absl:Function `signature_wrapper` contains input name(s) mobilenetv2_1.00_224_input with unsupported characters which will be renamed to mobilenetv2_1_00_224_input in the SavedModel.\n"
          ]
        },
        {
          "output_type": "stream",
          "name": "stdout",
          "text": [
            "INFO:tensorflow:Assets written to: /tmp/tmp39sc69yz/assets\n"
          ]
        },
        {
          "output_type": "stream",
          "name": "stderr",
          "text": [
            "INFO:tensorflow:Assets written to: /tmp/tmp39sc69yz/assets\n",
            "WARNING:absl:Buffer deduplication procedure will be skipped when flatbuffer library is not properly loaded\n"
          ]
        }
      ]
    },
    {
      "cell_type": "code",
      "source": [
        "from google.colab import files\n",
        "\n",
        "files.download('model.tflite')\n",
        "files.download('labels.txt')"
      ],
      "metadata": {
        "colab": {
          "base_uri": "https://localhost:8080/",
          "height": 52
        },
        "id": "tZXAjjXtSKEO",
        "outputId": "50cf6eee-f570-4a99-8c49-4d49e4d51e16"
      },
      "execution_count": null,
      "outputs": [
        {
          "output_type": "display_data",
          "data": {
            "application/javascript": [
              "\n",
              "    async function download(id, filename, size) {\n",
              "      if (!google.colab.kernel.accessAllowed) {\n",
              "        return;\n",
              "      }\n",
              "      const div = document.createElement('div');\n",
              "      const label = document.createElement('label');\n",
              "      label.textContent = `Downloading \"${filename}\": `;\n",
              "      div.appendChild(label);\n",
              "      const progress = document.createElement('progress');\n",
              "      progress.max = size;\n",
              "      div.appendChild(progress);\n",
              "      document.body.appendChild(div);\n",
              "\n",
              "      const buffers = [];\n",
              "      let downloaded = 0;\n",
              "\n",
              "      const channel = await google.colab.kernel.comms.open(id);\n",
              "      // Send a message to notify the kernel that we're ready.\n",
              "      channel.send({})\n",
              "\n",
              "      for await (const message of channel.messages) {\n",
              "        // Send a message to notify the kernel that we're ready.\n",
              "        channel.send({})\n",
              "        if (message.buffers) {\n",
              "          for (const buffer of message.buffers) {\n",
              "            buffers.push(buffer);\n",
              "            downloaded += buffer.byteLength;\n",
              "            progress.value = downloaded;\n",
              "          }\n",
              "        }\n",
              "      }\n",
              "      const blob = new Blob(buffers, {type: 'application/binary'});\n",
              "      const a = document.createElement('a');\n",
              "      a.href = window.URL.createObjectURL(blob);\n",
              "      a.download = filename;\n",
              "      div.appendChild(a);\n",
              "      a.click();\n",
              "      div.remove();\n",
              "    }\n",
              "  "
            ],
            "text/plain": [
              "<IPython.core.display.Javascript object>"
            ]
          },
          "metadata": {}
        },
        {
          "output_type": "display_data",
          "data": {
            "application/javascript": [
              "download(\"download_4fa981f3-2033-4385-a65e-95ad9f497c84\", \"model.tflite\", 10345256)"
            ],
            "text/plain": [
              "<IPython.core.display.Javascript object>"
            ]
          },
          "metadata": {}
        },
        {
          "output_type": "display_data",
          "data": {
            "application/javascript": [
              "\n",
              "    async function download(id, filename, size) {\n",
              "      if (!google.colab.kernel.accessAllowed) {\n",
              "        return;\n",
              "      }\n",
              "      const div = document.createElement('div');\n",
              "      const label = document.createElement('label');\n",
              "      label.textContent = `Downloading \"${filename}\": `;\n",
              "      div.appendChild(label);\n",
              "      const progress = document.createElement('progress');\n",
              "      progress.max = size;\n",
              "      div.appendChild(progress);\n",
              "      document.body.appendChild(div);\n",
              "\n",
              "      const buffers = [];\n",
              "      let downloaded = 0;\n",
              "\n",
              "      const channel = await google.colab.kernel.comms.open(id);\n",
              "      // Send a message to notify the kernel that we're ready.\n",
              "      channel.send({})\n",
              "\n",
              "      for await (const message of channel.messages) {\n",
              "        // Send a message to notify the kernel that we're ready.\n",
              "        channel.send({})\n",
              "        if (message.buffers) {\n",
              "          for (const buffer of message.buffers) {\n",
              "            buffers.push(buffer);\n",
              "            downloaded += buffer.byteLength;\n",
              "            progress.value = downloaded;\n",
              "          }\n",
              "        }\n",
              "      }\n",
              "      const blob = new Blob(buffers, {type: 'application/binary'});\n",
              "      const a = document.createElement('a');\n",
              "      a.href = window.URL.createObjectURL(blob);\n",
              "      a.download = filename;\n",
              "      div.appendChild(a);\n",
              "      a.click();\n",
              "      div.remove();\n",
              "    }\n",
              "  "
            ],
            "text/plain": [
              "<IPython.core.display.Javascript object>"
            ]
          },
          "metadata": {}
        },
        {
          "output_type": "display_data",
          "data": {
            "application/javascript": [
              "download(\"download_d28ada2b-bd82-4b42-8244-0bbaad2d53d3\", \"labels.txt\", 130)"
            ],
            "text/plain": [
              "<IPython.core.display.Javascript object>"
            ]
          },
          "metadata": {}
        }
      ]
    },
    {
      "cell_type": "code",
      "source": [
        ""
      ],
      "metadata": {
        "id": "8r3SeoR_SiuS"
      },
      "execution_count": null,
      "outputs": []
    }
  ]
}